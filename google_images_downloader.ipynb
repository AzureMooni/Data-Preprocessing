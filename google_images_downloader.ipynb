{
  "cells": [
    {
      "cell_type": "markdown",
      "metadata": {
        "id": "view-in-github",
        "colab_type": "text"
      },
      "source": [
        "<a href=\"https://colab.research.google.com/github/AzureMooni/Data-Preprocessing/blob/main/google_images_downloader.ipynb\" target=\"_parent\"><img src=\"https://colab.research.google.com/assets/colab-badge.svg\" alt=\"Open In Colab\"/></a>"
      ]
    },
    {
      "cell_type": "code",
      "execution_count": null,
      "metadata": {
        "colab": {
          "base_uri": "https://localhost:8080/"
        },
        "id": "UKVUsjq09nub",
        "outputId": "31fc06d0-1576-46cf-92d4-a1da7f115ca1"
      },
      "outputs": [
        {
          "output_type": "stream",
          "name": "stdout",
          "text": [
            "Looking in indexes: https://pypi.org/simple, https://us-python.pkg.dev/colab-wheels/public/simple/\n",
            "Collecting git+https://github.com/Joeclinton1/google-images-download.git\n",
            "  Cloning https://github.com/Joeclinton1/google-images-download.git to /tmp/pip-req-build-izp3j8mp\n",
            "  Running command git clone -q https://github.com/Joeclinton1/google-images-download.git /tmp/pip-req-build-izp3j8mp\n",
            "Requirement already satisfied: selenium in /usr/local/lib/python3.7/dist-packages (from google-images-download==2.8.0) (4.2.0)\n",
            "Requirement already satisfied: trio-websocket~=0.9 in /usr/local/lib/python3.7/dist-packages (from selenium->google-images-download==2.8.0) (0.9.2)\n",
            "Requirement already satisfied: urllib3[secure,socks]~=1.26 in /usr/local/lib/python3.7/dist-packages (from selenium->google-images-download==2.8.0) (1.26.9)\n",
            "Requirement already satisfied: trio~=0.17 in /usr/local/lib/python3.7/dist-packages (from selenium->google-images-download==2.8.0) (0.20.0)\n",
            "Requirement already satisfied: attrs>=19.2.0 in /usr/local/lib/python3.7/dist-packages (from trio~=0.17->selenium->google-images-download==2.8.0) (21.4.0)\n",
            "Requirement already satisfied: outcome in /usr/local/lib/python3.7/dist-packages (from trio~=0.17->selenium->google-images-download==2.8.0) (1.1.0)\n",
            "Requirement already satisfied: async-generator>=1.9 in /usr/local/lib/python3.7/dist-packages (from trio~=0.17->selenium->google-images-download==2.8.0) (1.10)\n",
            "Requirement already satisfied: sortedcontainers in /usr/local/lib/python3.7/dist-packages (from trio~=0.17->selenium->google-images-download==2.8.0) (2.4.0)\n",
            "Requirement already satisfied: idna in /usr/local/lib/python3.7/dist-packages (from trio~=0.17->selenium->google-images-download==2.8.0) (2.10)\n",
            "Requirement already satisfied: sniffio in /usr/local/lib/python3.7/dist-packages (from trio~=0.17->selenium->google-images-download==2.8.0) (1.2.0)\n",
            "Requirement already satisfied: wsproto>=0.14 in /usr/local/lib/python3.7/dist-packages (from trio-websocket~=0.9->selenium->google-images-download==2.8.0) (1.1.0)\n",
            "Requirement already satisfied: PySocks!=1.5.7,<2.0,>=1.5.6 in /usr/local/lib/python3.7/dist-packages (from urllib3[secure,socks]~=1.26->selenium->google-images-download==2.8.0) (1.7.1)\n",
            "Requirement already satisfied: cryptography>=1.3.4 in /usr/local/lib/python3.7/dist-packages (from urllib3[secure,socks]~=1.26->selenium->google-images-download==2.8.0) (37.0.2)\n",
            "Requirement already satisfied: pyOpenSSL>=0.14 in /usr/local/lib/python3.7/dist-packages (from urllib3[secure,socks]~=1.26->selenium->google-images-download==2.8.0) (22.0.0)\n",
            "Requirement already satisfied: certifi in /usr/local/lib/python3.7/dist-packages (from urllib3[secure,socks]~=1.26->selenium->google-images-download==2.8.0) (2022.5.18.1)\n",
            "Requirement already satisfied: cffi>=1.12 in /usr/local/lib/python3.7/dist-packages (from cryptography>=1.3.4->urllib3[secure,socks]~=1.26->selenium->google-images-download==2.8.0) (1.15.0)\n",
            "Requirement already satisfied: pycparser in /usr/local/lib/python3.7/dist-packages (from cffi>=1.12->cryptography>=1.3.4->urllib3[secure,socks]~=1.26->selenium->google-images-download==2.8.0) (2.21)\n",
            "Requirement already satisfied: h11<1,>=0.9.0 in /usr/local/lib/python3.7/dist-packages (from wsproto>=0.14->trio-websocket~=0.9->selenium->google-images-download==2.8.0) (0.13.0)\n",
            "Requirement already satisfied: typing-extensions in /usr/local/lib/python3.7/dist-packages (from h11<1,>=0.9.0->wsproto>=0.14->trio-websocket~=0.9->selenium->google-images-download==2.8.0) (4.2.0)\n"
          ]
        }
      ],
      "source": [
        "pip install git+https://github.com/Joeclinton1/google-images-download.git"
      ]
    },
    {
      "cell_type": "code",
      "execution_count": null,
      "metadata": {
        "id": "FcfKAt4Z9nud"
      },
      "outputs": [],
      "source": [
        "from google_images_download import google_images_download   #importing the library"
      ]
    },
    {
      "cell_type": "code",
      "execution_count": null,
      "metadata": {
        "id": "4v6wQMvx9nue"
      },
      "outputs": [],
      "source": [
        "def googleImageCrawling(keywords, limit):\n",
        "    response = google_images_download.googleimagesdownload()   #class instantiation\n",
        "\n",
        "    arguments = {\"keywords\": keywords,\"limit\":limit,\"print_urls\":True, 'chromedriver': '/Users/moon/Coding/Crawling/chromedriver', 'format' : 'jpg'}   #creating list of arguments\n",
        "    paths = response.download(arguments)   #passing the arguments to the function\n",
        "    print(paths)   #printing absolute paths of the downloaded images"
      ]
    },
    {
      "cell_type": "code",
      "execution_count": null,
      "metadata": {
        "id": "E8HXs7cD9nuf"
      },
      "outputs": [],
      "source": [
        "keywords = 'korean'\n",
        "limit = 10"
      ]
    },
    {
      "cell_type": "code",
      "execution_count": null,
      "metadata": {
        "colab": {
          "base_uri": "https://localhost:8080/"
        },
        "id": "Z7k8dtG-9nuf",
        "outputId": "f2dd0e63-9a31-4399-b944-165499fb73f4"
      },
      "outputs": [
        {
          "output_type": "stream",
          "name": "stdout",
          "text": [
            "\n",
            "Item no.: 1 --> Item name = korean\n",
            "Evaluating...\n",
            "Starting Download...\n",
            "Image URL: https://ichef.bbci.co.uk/news/976/cpsprodpb/606F/production/_124178642_gettyimages-1210044358.jpg\n",
            "Completed Image ====> 1._124178642_gettyimages-1210044358.jpg\n",
            "Image URL: https://static01.nyt.com/images/2019/10/14/world/14xp-sulli-02/14xp-sulli-02-superJumbo.jpg\n",
            "Completed Image ====> 2.14xp-sulli-02-superjumbo.jpg\n",
            "Image URL: https://static.toiimg.com/photo/msid-83335623/83335623.jpg?690633\n",
            "Completed Image ====> 3.83335623.jpg\n",
            "Image URL: https://phototass2.cdnvideo.ru/width/1020_b9261fa1/tass/m2/en/uploads/i/20200624/1272673.jpg\n",
            "Completed Image ====> 4.1272673.jpg\n",
            "Image URL: https://img.i-scmp.com/cdn-cgi/image/fit=contain,width=425,format=auto/sites/default/files/styles/768x768/public/d8/images/canvas/2021/12/08/798e34c7-ba47-43cd-8dce-ee00edff5445_affc398a.jpg?itok=vIry4s7n&v=1638938593\n",
            "Completed Image ====> 5.798e34c7-ba47-43cd-8dce-ee00edff5445_affc398a.jpg\n",
            "Image URL: https://static.toiimg.com/photo/msid-86465716/86465716.jpg?28264\n",
            "Completed Image ====> 6.86465716.jpg\n",
            "Image URL: https://images.news18.com/ibnlive/uploads/2021/06/1623495357_untitled-design-39.jpg?impolicy=website&width=510&height=356\n",
            "Completed Image ====> 7.1623495357_untitled-design-39.jpg.webp\n",
            "Image URL: https://upload.wikimedia.org/wikipedia/commons/thumb/d/de/Yesung_from_%22My_Korean_Teacher%22_at_Opening_Ceremony_of_the_Tokyo_International_Film_Festival_2016_%2832801121644%29.jpg/1200px-Yesung_from_%22My_Korean_Teacher%22_at_Opening_Ceremony_of_the_Tokyo_International_Film_Festival_2016_%2832801121644%29.jpg\n",
            "Completed Image ====> 8.1200px-yesung_from_%22my_korean_teacher%22_at_opening_ceremony_of_the_tokyo_international_film_festival_2016_%2832801121644%29.jpg\n",
            "Image URL: https://cdn1.matadornetwork.com/blogs/1/2015/08/Portrait-of-a-young-korean-male-sitting-on-a-staircase-1200x853.jpg\n",
            "Completed Image ====> 9.portrait-of-a-young-korean-male-sitting-on-a-staircase-1200x853.jpg\n",
            "Image URL: https://www.thetimes.co.uk/imageserver/image/%2Fmethode%2Fsundaytimes%2Fprod%2Fweb%2Fbin%2Faa05e20c-2855-11ec-9d22-0dd3fe23334c.jpg?crop=1500%2C1000%2C0%2C0\n",
            "Completed Image ====> 10.%2fmethode%2fsundaytimes%2fprod%2fweb%2fbin%2faa05e20c-2855-11ec-9d22-0dd3fe23334c.jpg\n",
            "\n",
            "Errors: 0\n",
            "\n",
            "({'korean': ['/content/downloads/korean/1._124178642_gettyimages-1210044358.jpg', '/content/downloads/korean/2.14xp-sulli-02-superjumbo.jpg', '/content/downloads/korean/3.83335623.jpg', '/content/downloads/korean/4.1272673.jpg', '/content/downloads/korean/5.798e34c7-ba47-43cd-8dce-ee00edff5445_affc398a.jpg', '/content/downloads/korean/6.86465716.jpg', '/content/downloads/korean/7.1623495357_untitled-design-39.jpg.webp', '/content/downloads/korean/8.1200px-yesung_from_%22my_korean_teacher%22_at_opening_ceremony_of_the_tokyo_international_film_festival_2016_%2832801121644%29.jpg', '/content/downloads/korean/9.portrait-of-a-young-korean-male-sitting-on-a-staircase-1200x853.jpg', '/content/downloads/korean/10.%2fmethode%2fsundaytimes%2fprod%2fweb%2fbin%2faa05e20c-2855-11ec-9d22-0dd3fe23334c.jpg']}, 0)\n"
          ]
        }
      ],
      "source": [
        "googleImageCrawling(keywords, int(limit))"
      ]
    }
  ],
  "metadata": {
    "interpreter": {
      "hash": "3584091cda227b8e59fda59e5fdf3aec4997f3a2464c55243d7618073e2ad776"
    },
    "kernelspec": {
      "display_name": "Python 3.8.12 ('DL-torch')",
      "language": "python",
      "name": "python3"
    },
    "language_info": {
      "codemirror_mode": {
        "name": "ipython",
        "version": 3
      },
      "file_extension": ".py",
      "mimetype": "text/x-python",
      "name": "python",
      "nbconvert_exporter": "python",
      "pygments_lexer": "ipython3",
      "version": "3.9.7"
    },
    "orig_nbformat": 4,
    "colab": {
      "name": "google_images_downloader.ipynb",
      "provenance": [],
      "include_colab_link": true
    }
  },
  "nbformat": 4,
  "nbformat_minor": 0
}